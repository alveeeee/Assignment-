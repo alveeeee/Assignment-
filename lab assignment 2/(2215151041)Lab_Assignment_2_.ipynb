{
  "nbformat": 4,
  "nbformat_minor": 0,
  "metadata": {
    "colab": {
      "provenance": []
    },
    "kernelspec": {
      "name": "python3",
      "display_name": "Python 3"
    },
    "language_info": {
      "name": "python"
    }
  },
  "cells": [
    {
      "cell_type": "code",
      "execution_count": 1,
      "metadata": {
        "id": "d2EAjbBqn4D9"
      },
      "outputs": [],
      "source": [
        "import numpy as np\n",
        "from sympy import Matrix\n",
        "import matplotlib.pyplot as plt\n",
        "import seaborn as sns\n"
      ]
    },
    {
      "cell_type": "code",
      "source": [
        "#Task 01 : Use numpy to create a 3×3 matrix of random integers between 1 and 50.\n",
        "Matrix = np.random.randint(1, 50, (3, 3))\n",
        "print(Matrix)"
      ],
      "metadata": {
        "colab": {
          "base_uri": "https://localhost:8080/"
        },
        "id": "iqRr8Zuxp8FU",
        "outputId": "1050cbbe-60d7-471d-9c8f-71d598ad3664"
      },
      "execution_count": 13,
      "outputs": [
        {
          "output_type": "stream",
          "name": "stdout",
          "text": [
            "[[ 9 10  1]\n",
            " [43 41 37]\n",
            " [17 37 48]]\n"
          ]
        }
      ]
    },
    {
      "cell_type": "code",
      "source": [
        "#Task 2 : Use numpy to create a 3×3 matrix of random integers between 1 and 50. With a fixed seed (`np.random.seed(10)`) to ensure reproducibility.\n",
        "np.random.seed(10)\n",
        "Matrix = np.random.randint(1, 50, (3, 3))\n",
        "print(Matrix)"
      ],
      "metadata": {
        "colab": {
          "base_uri": "https://localhost:8080/"
        },
        "id": "DFa3J4rxrSrW",
        "outputId": "85df93a4-6525-4493-c510-af92decf16ae"
      },
      "execution_count": 14,
      "outputs": [
        {
          "output_type": "stream",
          "name": "stdout",
          "text": [
            "[[10 37 16]\n",
            " [ 1 29 26]\n",
            " [30 49 30]]\n"
          ]
        }
      ]
    },
    {
      "cell_type": "markdown",
      "source": [
        "# **Explanation:**\n",
        "The code performs two tasks using NumPy to generate a 3×3 matrix of random integers between 1 and 50.\n",
        "\n",
        "\n",
        "---\n",
        "\n",
        "\n",
        "### **Task 1: Generating a Random Matrix Without a Fixed Seed**\n",
        "When NumPy generates a 3×3 matrix of random integers between 1 and 50 without a fixed seed, the values will change each time the code is executed.\n",
        "\n",
        "This happens because no specific starting point is set for the random number generator. As a result, each run produces a different set of random numbers, making the output unpredictable. Every time the program runs, NumPy initializes its random number generator differently, leading to a unique matrix with new values.\n",
        "\n",
        "This behavior is useful in scenarios where fresh randomness is needed, such as simulations, data augmentation, or generating unpredictable test cases.\n",
        "\n",
        "\n",
        "\n",
        "---\n",
        "\n",
        "\n",
        "\n",
        "### **Task 2: Generating a Random Matrix With a Fixed Seed (np.random.seed(10))**\n",
        "When we use np.random.seed(10) before generating a random matrix, we are setting a fixed starting point for NumPy’s random number generator. This ensures that the same matrix is generated every time the code runs, making the results predictable and repeatable.\n",
        "\n",
        "**How It Works**\n",
        "\n",
        "Random Number Generator:\n",
        "\n",
        "\n",
        "*   NumPy generates random numbers using a mathematical formula.\n",
        "*   These numbers are not truly random but are based on an initial value called the seed.\n",
        "\n",
        "\n",
        "\n",
        "\n",
        "\n",
        "\n",
        "\n",
        "Setting a Seed (np.random.seed(10)):\n",
        "\n",
        "\n",
        "*   The seed acts as a starting point, ensuring that NumPy produces the same sequence of random numbers every time.\n",
        "*   This guarantees that the matrix remains consistent across multiple runs of the code.\n",
        "\n",
        "\n",
        "\n",
        "\n",
        "\n",
        "**Why Use a Seed?**\n",
        "\n",
        "✔ Reproducibility: Helpful for testing and debugging, ensuring results don’t change unexpectedly.\n",
        "\n",
        "✔ Consistency: Allows different people running the same code to get identical results.\n",
        "\n",
        "✔ Controlled Randomness: Useful in machine learning, simulations, and research, where repeatable outcomes are important."
      ],
      "metadata": {
        "id": "iei_rL36rxKR"
      }
    }
  ]
}